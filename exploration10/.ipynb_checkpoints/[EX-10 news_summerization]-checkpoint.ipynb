{
 "cells": [
  {
   "cell_type": "code",
   "execution_count": 12,
   "id": "nasty-grass",
   "metadata": {},
   "outputs": [],
   "source": [
    "import os\n",
    "import re\n",
    "import matplotlib.pyplot as plt\n",
    "from bs4 import BeautifulSoup \n",
    "from tensorflow.keras.preprocessing.text import Tokenizer \n",
    "from tensorflow.keras.preprocessing.sequence import pad_sequences"
   ]
  },
  {
   "cell_type": "code",
   "execution_count": 3,
   "id": "floral-office",
   "metadata": {},
   "outputs": [],
   "source": [
    "import urllib.request\n",
    "urllib.request.urlretrieve(\"https://raw.githubusercontent.com/sunnysai12345/News_Summary/master/news_summary_more.csv\", filename=\"news_summary_more.csv\")\n",
    "data = pd.read_csv('news_summary_more.csv', encoding='iso-8859-1')"
   ]
  },
  {
   "cell_type": "code",
   "execution_count": 4,
   "id": "cross-deposit",
   "metadata": {},
   "outputs": [
    {
     "data": {
      "text/html": [
       "<div>\n",
       "<style scoped>\n",
       "    .dataframe tbody tr th:only-of-type {\n",
       "        vertical-align: middle;\n",
       "    }\n",
       "\n",
       "    .dataframe tbody tr th {\n",
       "        vertical-align: top;\n",
       "    }\n",
       "\n",
       "    .dataframe thead th {\n",
       "        text-align: right;\n",
       "    }\n",
       "</style>\n",
       "<table border=\"1\" class=\"dataframe\">\n",
       "  <thead>\n",
       "    <tr style=\"text-align: right;\">\n",
       "      <th></th>\n",
       "      <th>headlines</th>\n",
       "      <th>text</th>\n",
       "    </tr>\n",
       "  </thead>\n",
       "  <tbody>\n",
       "    <tr>\n",
       "      <th>38426</th>\n",
       "      <td>Hosts Russia lowest-ranked among 32 teams at 2...</td>\n",
       "      <td>Russia, who are hosting FIFA World Cup for the...</td>\n",
       "    </tr>\n",
       "    <tr>\n",
       "      <th>96693</th>\n",
       "      <td>20-yr-old scores 70pts breaking Jordan's recor...</td>\n",
       "      <td>NBA player Devin Booker scored 70 points out o...</td>\n",
       "    </tr>\n",
       "    <tr>\n",
       "      <th>41266</th>\n",
       "      <td>Two Army jawans martyred in encounter in Kashmir</td>\n",
       "      <td>Two Army jawans were martyred on Sunday in an ...</td>\n",
       "    </tr>\n",
       "    <tr>\n",
       "      <th>20440</th>\n",
       "      <td>Indians can make calls on flights starting Oct...</td>\n",
       "      <td>The Department of Telecommunications (DoT) has...</td>\n",
       "    </tr>\n",
       "    <tr>\n",
       "      <th>26155</th>\n",
       "      <td>Kohli hits 1,000 int'l runs in a year for 9th ...</td>\n",
       "      <td>Team India captain Virat Kohli crossed 1,000-p...</td>\n",
       "    </tr>\n",
       "    <tr>\n",
       "      <th>11734</th>\n",
       "      <td>India-Japan sign 6 key pacts, agree to hold 2+...</td>\n",
       "      <td>During PM Narendra Modi's visit, India and Jap...</td>\n",
       "    </tr>\n",
       "    <tr>\n",
       "      <th>60973</th>\n",
       "      <td>Akshay shares pics with Sonam, Radhika from Pa...</td>\n",
       "      <td>Akshay Kumar has shared pictures with Sonam Ka...</td>\n",
       "    </tr>\n",
       "    <tr>\n",
       "      <th>73129</th>\n",
       "      <td>80,000 distressed Indians rescued in 3 yrs: Su...</td>\n",
       "      <td>As many as 80,000 distressed Indians were resc...</td>\n",
       "    </tr>\n",
       "    <tr>\n",
       "      <th>20667</th>\n",
       "      <td>Couldn't afford milk, now won medal: Asian Gam...</td>\n",
       "      <td>After winning the bronze medal at the Asian Ga...</td>\n",
       "    </tr>\n",
       "    <tr>\n",
       "      <th>67336</th>\n",
       "      <td>Concretisation of drains causes floods in Beng...</td>\n",
       "      <td>A report by the Indian Institute of Science sa...</td>\n",
       "    </tr>\n",
       "  </tbody>\n",
       "</table>\n",
       "</div>"
      ],
      "text/plain": [
       "                                               headlines  \\\n",
       "38426  Hosts Russia lowest-ranked among 32 teams at 2...   \n",
       "96693  20-yr-old scores 70pts breaking Jordan's recor...   \n",
       "41266   Two Army jawans martyred in encounter in Kashmir   \n",
       "20440  Indians can make calls on flights starting Oct...   \n",
       "26155  Kohli hits 1,000 int'l runs in a year for 9th ...   \n",
       "11734  India-Japan sign 6 key pacts, agree to hold 2+...   \n",
       "60973  Akshay shares pics with Sonam, Radhika from Pa...   \n",
       "73129  80,000 distressed Indians rescued in 3 yrs: Su...   \n",
       "20667  Couldn't afford milk, now won medal: Asian Gam...   \n",
       "67336  Concretisation of drains causes floods in Beng...   \n",
       "\n",
       "                                                    text  \n",
       "38426  Russia, who are hosting FIFA World Cup for the...  \n",
       "96693  NBA player Devin Booker scored 70 points out o...  \n",
       "41266  Two Army jawans were martyred on Sunday in an ...  \n",
       "20440  The Department of Telecommunications (DoT) has...  \n",
       "26155  Team India captain Virat Kohli crossed 1,000-p...  \n",
       "11734  During PM Narendra Modi's visit, India and Jap...  \n",
       "60973  Akshay Kumar has shared pictures with Sonam Ka...  \n",
       "73129  As many as 80,000 distressed Indians were resc...  \n",
       "20667  After winning the bronze medal at the Asian Ga...  \n",
       "67336  A report by the Indian Institute of Science sa...  "
      ]
     },
     "execution_count": 4,
     "metadata": {},
     "output_type": "execute_result"
    }
   ],
   "source": [
    "data.sample(10)"
   ]
  },
  {
   "cell_type": "code",
   "execution_count": 6,
   "id": "bored-trout",
   "metadata": {},
   "outputs": [],
   "source": [
    "data.drop_duplicates(subset = ['text'], inplace=True)"
   ]
  },
  {
   "cell_type": "code",
   "execution_count": 7,
   "id": "cross-telescope",
   "metadata": {},
   "outputs": [
    {
     "name": "stdout",
     "output_type": "stream",
     "text": [
      "headlines    0\n",
      "text         0\n",
      "dtype: int64\n"
     ]
    }
   ],
   "source": [
    "print(data.isnull().sum()) #text에 null값이 남아있는지 확인"
   ]
  },
  {
   "cell_type": "markdown",
   "id": "sustained-invite",
   "metadata": {},
   "source": [
    "## 텍스트 정규화"
   ]
  },
  {
   "cell_type": "code",
   "execution_count": 18,
   "id": "coral-escape",
   "metadata": {},
   "outputs": [],
   "source": [
    "contractions = {\"ain't\": \"is not\", \"aren't\": \"are not\",\"can't\": \"cannot\", \"'cause\": \"because\", \"could've\": \"could have\", \"couldn't\": \"could not\",\n",
    "                           \"didn't\": \"did not\",  \"doesn't\": \"does not\", \"don't\": \"do not\", \"hadn't\": \"had not\", \"hasn't\": \"has not\", \"haven't\": \"have not\",\n",
    "                           \"he'd\": \"he would\",\"he'll\": \"he will\", \"he's\": \"he is\", \"how'd\": \"how did\", \"how'd'y\": \"how do you\", \"how'll\": \"how will\", \"how's\": \"how is\",\n",
    "                           \"I'd\": \"I would\", \"I'd've\": \"I would have\", \"I'll\": \"I will\", \"I'll've\": \"I will have\",\"I'm\": \"I am\", \"I've\": \"I have\", \"i'd\": \"i would\",\n",
    "                           \"i'd've\": \"i would have\", \"i'll\": \"i will\",  \"i'll've\": \"i will have\",\"i'm\": \"i am\", \"i've\": \"i have\", \"isn't\": \"is not\", \"it'd\": \"it would\",\n",
    "                           \"it'd've\": \"it would have\", \"it'll\": \"it will\", \"it'll've\": \"it will have\",\"it's\": \"it is\", \"let's\": \"let us\", \"ma'am\": \"madam\",\n",
    "                           \"mayn't\": \"may not\", \"might've\": \"might have\",\"mightn't\": \"might not\",\"mightn't've\": \"might not have\", \"must've\": \"must have\",\n",
    "                           \"mustn't\": \"must not\", \"mustn't've\": \"must not have\", \"needn't\": \"need not\", \"needn't've\": \"need not have\",\"o'clock\": \"of the clock\",\n",
    "                           \"oughtn't\": \"ought not\", \"oughtn't've\": \"ought not have\", \"shan't\": \"shall not\", \"sha'n't\": \"shall not\", \"shan't've\": \"shall not have\",\n",
    "                           \"she'd\": \"she would\", \"she'd've\": \"she would have\", \"she'll\": \"she will\", \"she'll've\": \"she will have\", \"she's\": \"she is\",\n",
    "                           \"should've\": \"should have\", \"shouldn't\": \"should not\", \"shouldn't've\": \"should not have\", \"so've\": \"so have\",\"so's\": \"so as\",\n",
    "                           \"this's\": \"this is\",\"that'd\": \"that would\", \"that'd've\": \"that would have\", \"that's\": \"that is\", \"there'd\": \"there would\",\n",
    "                           \"there'd've\": \"there would have\", \"there's\": \"there is\", \"here's\": \"here is\",\"they'd\": \"they would\", \"they'd've\": \"they would have\",\n",
    "                           \"they'll\": \"they will\", \"they'll've\": \"they will have\", \"they're\": \"they are\", \"they've\": \"they have\", \"to've\": \"to have\",\n",
    "                           \"wasn't\": \"was not\", \"we'd\": \"we would\", \"we'd've\": \"we would have\", \"we'll\": \"we will\", \"we'll've\": \"we will have\", \"we're\": \"we are\",\n",
    "                           \"we've\": \"we have\", \"weren't\": \"were not\", \"what'll\": \"what will\", \"what'll've\": \"what will have\", \"what're\": \"what are\",\n",
    "                           \"what's\": \"what is\", \"what've\": \"what have\", \"when's\": \"when is\", \"when've\": \"when have\", \"where'd\": \"where did\", \"where's\": \"where is\",\n",
    "                           \"where've\": \"where have\", \"who'll\": \"who will\", \"who'll've\": \"who will have\", \"who's\": \"who is\", \"who've\": \"who have\",\n",
    "                           \"why's\": \"why is\", \"why've\": \"why have\", \"will've\": \"will have\", \"won't\": \"will not\", \"won't've\": \"will not have\",\n",
    "                           \"would've\": \"would have\", \"wouldn't\": \"would not\", \"wouldn't've\": \"would not have\", \"y'all\": \"you all\",\n",
    "                           \"y'all'd\": \"you all would\",\"y'all'd've\": \"you all would have\",\"y'all're\": \"you all are\",\"y'all've\": \"you all have\",\n",
    "                           \"you'd\": \"you would\", \"you'd've\": \"you would have\", \"you'll\": \"you will\", \"you'll've\": \"you will have\",\n",
    "                           \"you're\": \"you are\", \"you've\": \"you have\"}"
   ]
  },
  {
   "cell_type": "code",
   "execution_count": 19,
   "id": "retired-reservoir",
   "metadata": {},
   "outputs": [],
   "source": [
    "# 데이터 전처리 함수\n",
    "def preprocess_sentence(sentence, remove_stopwords=True):\n",
    "    sentence = sentence.lower() # 텍스트 소문자화\n",
    "    sentence = BeautifulSoup(sentence, \"lxml\").text # <br />, <a href = ...> 등의 html 태그 제거\n",
    "    sentence = re.sub(r'\\([^)]*\\)', '', sentence) # 괄호로 닫힌 문자열 (...) 제거 Ex) my husband (and myself!) for => my husband for\n",
    "    sentence = re.sub('\"','', sentence) # 쌍따옴표 \" 제거\n",
    "    sentence = ' '.join([contractions[t] if t in contractions else t for t in sentence.split(\" \")]) # 약어 정규화\n",
    "    sentence = re.sub(r\"'s\\b\",\"\", sentence) # 소유격 제거. Ex) roland's -> roland\n",
    "    sentence = re.sub(\"[^a-zA-Z]\", \" \", sentence) # 영어 외 문자(숫자, 특수문자 등) 공백으로 변환\n",
    "    sentence = re.sub('[m]{2,}', 'mm', sentence) # m이 3개 이상이면 2개로 변경. Ex) ummmmmmm yeah -> umm yeah\n",
    "    \n",
    "    # 불용어 제거 (Text)\n",
    "    if remove_stopwords:\n",
    "        tokens = ' '.join(word for word in sentence.split() if not word in stopwords.words('english') if len(word) > 1)\n",
    "    # 불용어 미제거 (Summary)\n",
    "    else:\n",
    "        tokens = ' '.join(word for word in sentence.split() if len(word) > 1)\n",
    "    return tokens"
   ]
  },
  {
   "cell_type": "code",
   "execution_count": 22,
   "id": "gothic-waste",
   "metadata": {},
   "outputs": [
    {
     "name": "stdout",
     "output_type": "stream",
     "text": [
      "181.25666522979736  seconds\n",
      "['saurav kant alumnus upgrad iiit pg program machine learning artificial intelligence sr systems engineer infosys almost years work experience program upgrad degree career support helped transition data scientist tech mahindra salary hike upgrad online power learning powered lakh careers'\n",
      " 'kunal shah credit card bill payment platform cred gave users chance win free food swiggy one year pranav kaushik delhi techie bagged reward spending cred coins users get one cred coin per rupee bill paid used avail rewards brands like ixigo bookmyshow ubereats cult fit'\n",
      " 'new zealand defeated india wickets fourth odi hamilton thursday win first match five match odi series india lost international match rohit sharma captaincy consecutive victories dating back march match witnessed india getting seventh lowest total odi cricket history'\n",
      " ...\n",
      " 'according reports new version science fiction film matrix development michael jordan reportedly play lead role film screenwriter zak penn talks write script film reports added actor keanu reeves starred original film followed two sequels'\n",
      " 'new music video shows rapper snoop dogg aiming toy gun clown character parodying us president donald trump video also shows tv airing news conference headline ronald klump wants deport doggs airing live clown house video remixed version song lavender'\n",
      " 'madhesi morcha alliance seven political parties withdrawn support pm pushpa kamal dahal led nepal government failed meet seven day ultimatum fulfil demands including endorsement revised constitution amendment bill morcha seats parliament despite withdrawal support immediate threat government']\n",
      "5.968604326248169  seconds\n",
      "['upgrad learner switches to career in ml al with salary hike'\n",
      " 'delhi techie wins free food from swiggy for one year on cred'\n",
      " 'new zealand end rohit sharma led india match winning streak' ...\n",
      " 'the matrix film to get reboot reports'\n",
      " 'snoop dogg aims gun at clown dressed as trump in new video'\n",
      " 'madhesi morcha withdraws support to nepalese government']\n"
     ]
    }
   ],
   "source": [
    "import multiprocessing as mp   # 멀티 프로세싱사용\n",
    "from multiprocessing import Pool\n",
    "import numpy as np\n",
    "import time\n",
    "from functools import partial  # map을 할 때 함수에 여러 인자를 넣어줄 수 있도록 합니다\n",
    "\n",
    "start = time.time()\n",
    "\n",
    "# num_cores 만큼 쪼개진 데이터를 전처리하여 반환합니다\n",
    "def appendTexts(sentences, remove_stopwords):\n",
    "  texts = []\n",
    "  for s in sentences:\n",
    "    texts += preprocess_sentence(s, remove_stopwords),\n",
    "  return texts\n",
    "\n",
    "def preprocess_data(data, remove_stopwords=True):\n",
    "  start_time = time.time()\n",
    "  num_cores = mp.cpu_count()  # 컴퓨터의 코어 수를 구합니다\n",
    "\n",
    "  text_data_split = np.array_split(data, num_cores)  # 코어 수만큼 데이터를 배분하여 병렬적으로 처리할 수 있게 합니다\n",
    "  pool = Pool(num_cores)\n",
    "\n",
    "  processed_data = np.concatenate(pool.map(partial(appendTexts, remove_stopwords=remove_stopwords), text_data_split))  # 각자 작업한 데이터를 하나로 합쳐줍니다\n",
    "  pool.close()\n",
    "  pool.join()\n",
    "  print(time.time() - start_time, \" seconds\")\n",
    "  return processed_data\n",
    "\n",
    "clean_text = preprocess_data(data['text'])  # 클라우드 기준으로 3~4분 정도 소요 됩니다\n",
    "print(clean_text)\n",
    "\n",
    "clean_summary = preprocess_data(data['headlines'], remove_stopwords=False) # 클라우드 기준 1분정도 소요됩니다.\n",
    "print(clean_summary)"
   ]
  },
  {
   "cell_type": "code",
   "execution_count": 28,
   "id": "postal-protest",
   "metadata": {},
   "outputs": [],
   "source": [
    "data['text'] = clean_text\n",
    "data['headlines'] = clean_summary\n",
    "\n",
    "# 빈 값을 Null 값으로 변환\n",
    "data.replace('', np.nan, inplace=True)"
   ]
  },
  {
   "cell_type": "code",
   "execution_count": 33,
   "id": "express-rolling",
   "metadata": {},
   "outputs": [
    {
     "data": {
      "text/plain": [
       "headlines    0\n",
       "text         0\n",
       "dtype: int64"
      ]
     },
     "execution_count": 33,
     "metadata": {},
     "output_type": "execute_result"
    }
   ],
   "source": [
    "data.isnull().sum() #데이터에 null값확인"
   ]
  },
  {
   "cell_type": "code",
   "execution_count": 34,
   "id": "aggressive-inclusion",
   "metadata": {},
   "outputs": [
    {
     "name": "stdout",
     "output_type": "stream",
     "text": [
      "전체 샘플수 : 98360\n"
     ]
    }
   ],
   "source": [
    "print('전체 샘플수 :', (len(data)))"
   ]
  },
  {
   "cell_type": "markdown",
   "id": "clinical-arizona",
   "metadata": {},
   "source": [
    "## 정규화한 텍스트의 단어 길이 확인 및 길이 정하기"
   ]
  },
  {
   "cell_type": "code",
   "execution_count": 35,
   "id": "plastic-craps",
   "metadata": {},
   "outputs": [
    {
     "name": "stdout",
     "output_type": "stream",
     "text": [
      "텍스트의 최소 길이 : 1\n",
      "텍스트의 최대 길이 : 60\n",
      "텍스트의 평균 길이 : 35.09968483123221\n",
      "요약의 최소 길이 : 1\n",
      "요약의 최대 길이 : 16\n",
      "요약의 평균 길이 : 9.299532330215534\n"
     ]
    },
    {
     "data": {
      "image/png": "[encoded data removed]",
      "text/plain": [
       "<Figure size 432x288 with 2 Axes>"
      ]
     },
     "metadata": {
      "needs_background": "light"
     },
     "output_type": "display_data"
    },
    {
     "data": {
      "image/png": "[encoded data removed]",
      "text/plain": [
       "<Figure size 432x288 with 1 Axes>"
      ]
     },
     "metadata": {
      "needs_background": "light"
     },
     "output_type": "display_data"
    },
    {
     "data": {
      "image/png": "[encoded data removed]",
      "text/plain": [
       "<Figure size 432x288 with 1 Axes>"
      ]
     },
     "metadata": {
      "needs_background": "light"
     },
     "output_type": "display_data"
    }
   ],
   "source": [
    "# 길이 분포 출력\n",
    "import matplotlib.pyplot as plt\n",
    "\n",
    "text_len = [len(s.split()) for s in data['text']]\n",
    "summary_len = [len(s.split()) for s in data['headlines']]\n",
    "\n",
    "print('텍스트의 최소 길이 : {}'.format(np.min(text_len)))\n",
    "print('텍스트의 최대 길이 : {}'.format(np.max(text_len)))\n",
    "print('텍스트의 평균 길이 : {}'.format(np.mean(text_len)))\n",
    "print('요약의 최소 길이 : {}'.format(np.min(summary_len)))\n",
    "print('요약의 최대 길이 : {}'.format(np.max(summary_len)))\n",
    "print('요약의 평균 길이 : {}'.format(np.mean(summary_len)))\n",
    "\n",
    "plt.subplot(1,2,1)\n",
    "plt.boxplot(summary_len)\n",
    "plt.title('headlines')\n",
    "plt.subplot(1,2,2)\n",
    "plt.boxplot(text_len)\n",
    "plt.title('text')\n",
    "plt.tight_layout()\n",
    "plt.show()\n",
    "\n",
    "plt.title('headlines')\n",
    "plt.hist(summary_len, bins = 40)\n",
    "plt.xlabel('length of samples')\n",
    "plt.ylabel('number of samples')\n",
    "plt.show()\n",
    "\n",
    "plt.title('text')\n",
    "plt.hist(text_len, bins = 40)\n",
    "plt.xlabel('length of samples')\n",
    "plt.ylabel('number of samples')\n",
    "plt.show()"
   ]
  },
  {
   "cell_type": "code",
   "execution_count": 36,
   "id": "impressive-novelty",
   "metadata": {},
   "outputs": [],
   "source": [
    "def below_threshold_len(max_len, nested_list):\n",
    "  cnt = 0\n",
    "  for s in nested_list:\n",
    "    if(len(s.split()) <= max_len):\n",
    "        cnt = cnt + 1\n",
    "  print('전체 샘플 중 길이가 %s 이하인 샘플의 비율: %s'%(max_len, (cnt / len(nested_list))))"
   ]
  },
  {
   "cell_type": "code",
   "execution_count": 45,
   "id": "alive-lindsay",
   "metadata": {},
   "outputs": [
    {
     "data": {
      "text/plain": [
       "count    98360.000000\n",
       "mean        35.099685\n",
       "std          3.799406\n",
       "min          1.000000\n",
       "25%         33.000000\n",
       "50%         35.000000\n",
       "75%         38.000000\n",
       "max         60.000000\n",
       "Name: len, dtype: float64"
      ]
     },
     "execution_count": 45,
     "metadata": {},
     "output_type": "execute_result"
    }
   ],
   "source": [
    "pd.DataFrame(text_len, columns = ['len'])['len'].describe()"
   ]
  },
  {
   "cell_type": "code",
   "execution_count": 47,
   "id": "smoking-acceptance",
   "metadata": {},
   "outputs": [
    {
     "name": "stdout",
     "output_type": "stream",
     "text": [
      "전체 샘플 중 길이가 40 이하인 샘플의 비율: 0.9238714924766165\n"
     ]
    }
   ],
   "source": [
    "below_threshold_len(40, data['text'])"
   ]
  },
  {
   "cell_type": "markdown",
   "id": "chubby-casting",
   "metadata": {},
   "source": [
    "대부분의 text 데이터의 단어수가 40개 미만에 존재한다"
   ]
  },
  {
   "cell_type": "code",
   "execution_count": 48,
   "id": "described-operations",
   "metadata": {
    "scrolled": true
   },
   "outputs": [
    {
     "data": {
      "text/plain": [
       "count    98360.000000\n",
       "mean         9.299532\n",
       "std          1.390101\n",
       "min          1.000000\n",
       "25%          8.000000\n",
       "50%          9.000000\n",
       "75%         10.000000\n",
       "max         16.000000\n",
       "Name: len, dtype: float64"
      ]
     },
     "execution_count": 48,
     "metadata": {},
     "output_type": "execute_result"
    }
   ],
   "source": [
    "pd.DataFrame(summary_len, columns = ['len'])['len'].describe()"
   ]
  },
  {
   "cell_type": "code",
   "execution_count": 50,
   "id": "interim-encounter",
   "metadata": {},
   "outputs": [
    {
     "name": "stdout",
     "output_type": "stream",
     "text": [
      "전체 샘플 중 길이가 10 이하인 샘플의 비율: 0.8162972753151687\n"
     ]
    }
   ],
   "source": [
    "below_threshold_len(10, data['headlines'])"
   ]
  },
  {
   "cell_type": "markdown",
   "id": "excited-pointer",
   "metadata": {},
   "source": [
    "headlines중 평균보다 조금 높은 10개이하의 갯수가 데이터의 82%를 차지하는것을 볼 수 있다"
   ]
  },
  {
   "cell_type": "code",
   "execution_count": 69,
   "id": "banner-vegetable",
   "metadata": {},
   "outputs": [],
   "source": [
    "text_max_len = 40\n",
    "summary_max_len = 10"
   ]
  },
  {
   "cell_type": "code",
   "execution_count": 70,
   "id": "developmental-commercial",
   "metadata": {},
   "outputs": [],
   "source": [
    "data = data[data['text'].apply(lambda x: len(x.split()) <= text_max_len)]\n",
    "data = data[data['headlines'].apply(lambda x: len(x.split()) <= summary_max_len)]"
   ]
  },
  {
   "cell_type": "markdown",
   "id": "attended-fence",
   "metadata": {},
   "source": [
    "## train test set 나누기"
   ]
  },
  {
   "cell_type": "code",
   "execution_count": 71,
   "id": "ambient-telling",
   "metadata": {
    "scrolled": true
   },
   "outputs": [
    {
     "data": {
      "text/html": [
       "<div>\n",
       "<style scoped>\n",
       "    .dataframe tbody tr th:only-of-type {\n",
       "        vertical-align: middle;\n",
       "    }\n",
       "\n",
       "    .dataframe tbody tr th {\n",
       "        vertical-align: top;\n",
       "    }\n",
       "\n",
       "    .dataframe thead th {\n",
       "        text-align: right;\n",
       "    }\n",
       "</style>\n",
       "<table border=\"1\" class=\"dataframe\">\n",
       "  <thead>\n",
       "    <tr style=\"text-align: right;\">\n",
       "      <th></th>\n",
       "      <th>headlines</th>\n",
       "      <th>text</th>\n",
       "      <th>decoder_input</th>\n",
       "      <th>decoder_target</th>\n",
       "    </tr>\n",
       "  </thead>\n",
       "  <tbody>\n",
       "    <tr>\n",
       "      <th>2</th>\n",
       "      <td>new zealand end rohit sharma led india match w...</td>\n",
       "      <td>new zealand defeated india wickets fourth odi ...</td>\n",
       "      <td>sostoken new zealand end rohit sharma led indi...</td>\n",
       "      <td>new zealand end rohit sharma led india match w...</td>\n",
       "    </tr>\n",
       "    <tr>\n",
       "      <th>3</th>\n",
       "      <td>aegon life iterm insurance plan helps customer...</td>\n",
       "      <td>aegon life iterm insurance plan customers enjo...</td>\n",
       "      <td>sostoken aegon life iterm insurance plan helps...</td>\n",
       "      <td>aegon life iterm insurance plan helps customer...</td>\n",
       "    </tr>\n",
       "    <tr>\n",
       "      <th>5</th>\n",
       "      <td>rahat fateh ali khan denies getting notice for...</td>\n",
       "      <td>pakistani singer rahat fateh ali khan denied r...</td>\n",
       "      <td>sostoken rahat fateh ali khan denies getting n...</td>\n",
       "      <td>rahat fateh ali khan denies getting notice for...</td>\n",
       "    </tr>\n",
       "    <tr>\n",
       "      <th>9</th>\n",
       "      <td>cong wins ramgarh bypoll in rajasthan takes to...</td>\n",
       "      <td>congress candidate shafia zubair ramgarh assem...</td>\n",
       "      <td>sostoken cong wins ramgarh bypoll in rajasthan...</td>\n",
       "      <td>cong wins ramgarh bypoll in rajasthan takes to...</td>\n",
       "    </tr>\n",
       "    <tr>\n",
       "      <th>10</th>\n",
       "      <td>up cousins fed human excreta for friendship wi...</td>\n",
       "      <td>two minor cousins uttar pradesh gorakhpur alle...</td>\n",
       "      <td>sostoken up cousins fed human excreta for frie...</td>\n",
       "      <td>up cousins fed human excreta for friendship wi...</td>\n",
       "    </tr>\n",
       "  </tbody>\n",
       "</table>\n",
       "</div>"
      ],
      "text/plain": [
       "                                            headlines  \\\n",
       "2   new zealand end rohit sharma led india match w...   \n",
       "3   aegon life iterm insurance plan helps customer...   \n",
       "5   rahat fateh ali khan denies getting notice for...   \n",
       "9   cong wins ramgarh bypoll in rajasthan takes to...   \n",
       "10  up cousins fed human excreta for friendship wi...   \n",
       "\n",
       "                                                 text  \\\n",
       "2   new zealand defeated india wickets fourth odi ...   \n",
       "3   aegon life iterm insurance plan customers enjo...   \n",
       "5   pakistani singer rahat fateh ali khan denied r...   \n",
       "9   congress candidate shafia zubair ramgarh assem...   \n",
       "10  two minor cousins uttar pradesh gorakhpur alle...   \n",
       "\n",
       "                                        decoder_input  \\\n",
       "2   sostoken new zealand end rohit sharma led indi...   \n",
       "3   sostoken aegon life iterm insurance plan helps...   \n",
       "5   sostoken rahat fateh ali khan denies getting n...   \n",
       "9   sostoken cong wins ramgarh bypoll in rajasthan...   \n",
       "10  sostoken up cousins fed human excreta for frie...   \n",
       "\n",
       "                                       decoder_target  \n",
       "2   new zealand end rohit sharma led india match w...  \n",
       "3   aegon life iterm insurance plan helps customer...  \n",
       "5   rahat fateh ali khan denies getting notice for...  \n",
       "9   cong wins ramgarh bypoll in rajasthan takes to...  \n",
       "10  up cousins fed human excreta for friendship wi...  "
      ]
     },
     "execution_count": 71,
     "metadata": {},
     "output_type": "execute_result"
    }
   ],
   "source": [
    "data['decoder_input'] = data['headlines'].apply(lambda x : 'sostoken '+ x)\n",
    "data['decoder_target'] = data['headlines'].apply(lambda x : x + ' eostoken')\n",
    "data.head()"
   ]
  },
  {
   "cell_type": "code",
   "execution_count": 73,
   "id": "danish-mathematics",
   "metadata": {},
   "outputs": [],
   "source": [
    "encoder_input = np.array(data['text']) # 인코더의 입력\n",
    "decoder_input = np.array(data['decoder_input']) # 디코더의 입력\n",
    "decoder_target = np.array(data['decoder_target']) # 디코더의 레이블"
   ]
  },
  {
   "cell_type": "code",
   "execution_count": 74,
   "id": "special-variance",
   "metadata": {},
   "outputs": [
    {
     "name": "stdout",
     "output_type": "stream",
     "text": [
      "[ 1685  2810 32416 ... 68959 65529  6828]\n"
     ]
    }
   ],
   "source": [
    "indices = np.arange(encoder_input.shape[0])\n",
    "np.random.shuffle(indices)\n",
    "print(indices)"
   ]
  },
  {
   "cell_type": "code",
   "execution_count": 75,
   "id": "authorized-michigan",
   "metadata": {},
   "outputs": [],
   "source": [
    "encoder_input = encoder_input[indices]\n",
    "decoder_input = decoder_input[indices]\n",
    "decoder_target = decoder_target[indices]"
   ]
  },
  {
   "cell_type": "code",
   "execution_count": 76,
   "id": "beneficial-october",
   "metadata": {},
   "outputs": [
    {
     "name": "stdout",
     "output_type": "stream",
     "text": [
      "테스트 데이터의 수 : 14820\n"
     ]
    }
   ],
   "source": [
    "n_of_val = int(len(encoder_input)*0.2)\n",
    "print('테스트 데이터의 수 :', n_of_val)"
   ]
  },
  {
   "cell_type": "code",
   "execution_count": 77,
   "id": "finite-spanish",
   "metadata": {},
   "outputs": [
    {
     "name": "stdout",
     "output_type": "stream",
     "text": [
      "훈련 데이터의 개수 : 59282\n",
      "훈련 레이블의 개수 : 59282\n",
      "테스트 데이터의 개수 : 14820\n",
      "테스트 레이블의 개수 : 14820\n"
     ]
    }
   ],
   "source": [
    "encoder_input_train = encoder_input[:-n_of_val]\n",
    "decoder_input_train = decoder_input[:-n_of_val]\n",
    "decoder_target_train = decoder_target[:-n_of_val]\n",
    "\n",
    "encoder_input_test = encoder_input[-n_of_val:]\n",
    "decoder_input_test = decoder_input[-n_of_val:]\n",
    "decoder_target_test = decoder_target[-n_of_val:]\n",
    "\n",
    "print('훈련 데이터의 개수 :', len(encoder_input_train))\n",
    "print('훈련 레이블의 개수 :', len(decoder_input_train))\n",
    "print('테스트 데이터의 개수 :', len(encoder_input_test))\n",
    "print('테스트 레이블의 개수 :', len(decoder_input_test))"
   ]
  },
  {
   "cell_type": "markdown",
   "id": "biological-banks",
   "metadata": {},
   "source": [
    "## 단어 사전만들기"
   ]
  },
  {
   "cell_type": "code",
   "execution_count": 78,
   "id": "eligible-finish",
   "metadata": {},
   "outputs": [],
   "source": [
    "src_tokenizer = Tokenizer() # 토크나이저 정의\n",
    "src_tokenizer.fit_on_texts(encoder_input_train) # 입력된 데이터로부터 단어 집합 생성"
   ]
  },
  {
   "cell_type": "code",
   "execution_count": 90,
   "id": "fantastic-tiffany",
   "metadata": {},
   "outputs": [
    {
     "name": "stdout",
     "output_type": "stream",
     "text": [
      "단어 집합(vocabulary)의 크기 : 61490\n",
      "등장 빈도가 10번 이하인 희귀 단어의 수: 46359\n",
      "단어 집합에서 희귀 단어를 제외시킬 경우의 단어 집합의 크기 15131\n",
      "단어 집합에서 희귀 단어의 비율: 75.39274678809562\n",
      "전체 등장 빈도에서 희귀 단어 등장 빈도 비율: 5.88185063938569\n"
     ]
    }
   ],
   "source": [
    "threshold = 11\n",
    "total_cnt = len(src_tokenizer.word_index) # 단어의 수\n",
    "rare_cnt = 0 # 등장 빈도수가 threshold보다 작은 단어의 개수를 카운트\n",
    "total_freq = 0 # 훈련 데이터의 전체 단어 빈도수 총 합\n",
    "rare_freq = 0 # 등장 빈도수가 threshold보다 작은 단어의 등장 빈도수의 총 합\n",
    "\n",
    "# 단어와 빈도수의 쌍(pair)을 key와 value로 받는다.\n",
    "for key, value in src_tokenizer.word_counts.items():\n",
    "    total_freq = total_freq + value\n",
    "\n",
    "    # 단어의 등장 빈도수가 threshold보다 작으면\n",
    "    if(value < threshold):\n",
    "        rare_cnt = rare_cnt + 1\n",
    "        rare_freq = rare_freq + value\n",
    "\n",
    "print('단어 집합(vocabulary)의 크기 :', total_cnt)\n",
    "print('등장 빈도가 %s번 이하인 희귀 단어의 수: %s'%(threshold - 1, rare_cnt))\n",
    "print('단어 집합에서 희귀 단어를 제외시킬 경우의 단어 집합의 크기 %s'%(total_cnt - rare_cnt))\n",
    "print(\"단어 집합에서 희귀 단어의 비율:\", (rare_cnt / total_cnt)*100)\n",
    "print(\"전체 등장 빈도에서 희귀 단어 등장 빈도 비율:\", (rare_freq / total_freq)*100)"
   ]
  },
  {
   "cell_type": "code",
   "execution_count": 83,
   "id": "sacred-covering",
   "metadata": {},
   "outputs": [],
   "source": [
    "tar_tokenizer = Tokenizer()\n",
    "tar_tokenizer.fit_on_texts(decoder_input_train)"
   ]
  },
  {
   "cell_type": "code",
   "execution_count": 91,
   "id": "manufactured-major",
   "metadata": {},
   "outputs": [
    {
     "name": "stdout",
     "output_type": "stream",
     "text": [
      "단어 집합(vocabulary)의 크기 : 27298\n",
      "등장 빈도가 5번 이하인 희귀 단어의 수: 18232\n",
      "단어 집합에서 희귀 단어를 제외시킬 경우의 단어 집합의 크기 9066\n",
      "단어 집합에서 희귀 단어의 비율: 66.78877573448604\n",
      "전체 등장 빈도에서 희귀 단어 등장 빈도 비율: 5.970789493551863\n"
     ]
    }
   ],
   "source": [
    "threshold = 6\n",
    "total_cnt = len(tar_tokenizer.word_index) # 단어의 수\n",
    "rare_cnt = 0 # 등장 빈도수가 threshold보다 작은 단어의 개수를 카운트\n",
    "total_freq = 0 # 훈련 데이터의 전체 단어 빈도수 총 합\n",
    "rare_freq = 0 # 등장 빈도수가 threshold보다 작은 단어의 등장 빈도수의 총 합\n",
    "\n",
    "# 단어와 빈도수의 쌍(pair)을 key와 value로 받는다.\n",
    "for key, value in tar_tokenizer.word_counts.items():\n",
    "    total_freq = total_freq + value\n",
    "\n",
    "    # 단어의 등장 빈도수가 threshold보다 작으면\n",
    "    if(value < threshold):\n",
    "        rare_cnt = rare_cnt + 1\n",
    "        rare_freq = rare_freq + value\n",
    "\n",
    "print('단어 집합(vocabulary)의 크기 :', total_cnt)\n",
    "print('등장 빈도가 %s번 이하인 희귀 단어의 수: %s'%(threshold - 1, rare_cnt))\n",
    "print('단어 집합에서 희귀 단어를 제외시킬 경우의 단어 집합의 크기 %s'%(total_cnt - rare_cnt))\n",
    "print(\"단어 집합에서 희귀 단어의 비율:\", (rare_cnt / total_cnt)*100)\n",
    "print(\"전체 등장 빈도에서 희귀 단어 등장 빈도 비율:\", (rare_freq / total_freq)*100)"
   ]
  },
  {
   "cell_type": "markdown",
   "id": "built-beauty",
   "metadata": {},
   "source": [
    "전체 등장 빈도를 6%이하로 잡는다면 각각의 단어장의 단어수를 15000개 9000개로 만들어볼 수 있다."
   ]
  },
  {
   "cell_type": "code",
   "execution_count": 92,
   "id": "seeing-musician",
   "metadata": {},
   "outputs": [],
   "source": [
    "src_vocab = 15000\n",
    "src_tokenizer = Tokenizer(num_words=src_vocab) # 단어 집합의 크기를 15,000으로 제한\n",
    "src_tokenizer.fit_on_texts(encoder_input_train) # 단어 집합 재생성."
   ]
  },
  {
   "cell_type": "code",
   "execution_count": 132,
   "id": "toxic-iceland",
   "metadata": {},
   "outputs": [],
   "source": [
    "encoder_input_train = src_tokenizer.texts_to_sequences(encoder_input_train) \n",
    "encoder_input_test = src_tokenizer.texts_to_sequences(encoder_input_test)"
   ]
  },
  {
   "cell_type": "code",
   "execution_count": 93,
   "id": "victorian-husband",
   "metadata": {},
   "outputs": [
    {
     "name": "stdout",
     "output_type": "stream",
     "text": [
      "input\n",
      "input  [[1, 1218, 3, 313, 4, 271, 5, 573, 619, 403], [1, 1948, 1618, 373, 6, 533, 346, 5, 450, 4], [1, 788, 3430, 3322, 7518, 10, 167, 450], [1, 871, 161, 4303, 5152, 765, 327, 871, 1996, 1758], [1, 1001, 382, 2296, 1015, 1184, 12, 4, 1122]]\n",
      "target\n",
      "decoder  [[1218, 3, 313, 4, 271, 5, 573, 619, 403, 2], [1948, 1618, 373, 6, 533, 346, 5, 450, 4, 2], [788, 3430, 3322, 7518, 10, 167, 450, 2], [871, 161, 4303, 5152, 765, 327, 871, 1996, 1758, 2], [1001, 382, 2296, 1015, 1184, 12, 4, 1122, 2]]\n"
     ]
    }
   ],
   "source": [
    "tar_vocab = 9000\n",
    "tar_tokenizer = Tokenizer(num_words=tar_vocab) \n",
    "tar_tokenizer.fit_on_texts(decoder_input_train)\n",
    "tar_tokenizer.fit_on_texts(decoder_target_train)\n",
    "\n",
    "# 텍스트 시퀀스를 정수 시퀀스로 변환\n",
    "decoder_input_train = tar_tokenizer.texts_to_sequences(decoder_input_train) \n",
    "decoder_target_train = tar_tokenizer.texts_to_sequences(decoder_target_train)\n",
    "decoder_input_test = tar_tokenizer.texts_to_sequences(decoder_input_test)\n",
    "decoder_target_test = tar_tokenizer.texts_to_sequences(decoder_target_test)\n",
    "\n",
    "# 잘 변환되었는지 확인\n",
    "print('input')\n",
    "print('input ',decoder_input_train[:5])\n",
    "print('target')\n",
    "print('decoder ',decoder_target_train[:5])"
   ]
  },
  {
   "cell_type": "code",
   "execution_count": 115,
   "id": "assumed-trinidad",
   "metadata": {},
   "outputs": [],
   "source": [
    "#단어의 수가 3이하인 sentence 관찰\n",
    "drop_train = [index for index, sentence in enumerate(decoder_input_train) if len(sentence) <= 3]"
   ]
  },
  {
   "cell_type": "code",
   "execution_count": 116,
   "id": "copyrighted-country",
   "metadata": {},
   "outputs": [
    {
     "data": {
      "text/plain": [
       "[21482, 23180, 23412, 27475, 30986, 32673]"
      ]
     },
     "execution_count": 116,
     "metadata": {},
     "output_type": "execute_result"
    }
   ],
   "source": [
    "drop_train"
   ]
  },
  {
   "cell_type": "code",
   "execution_count": 120,
   "id": "cathedral-plastic",
   "metadata": {},
   "outputs": [
    {
     "data": {
      "text/plain": [
       "[1, 10, 583]"
      ]
     },
     "execution_count": 120,
     "metadata": {},
     "output_type": "execute_result"
    }
   ],
   "source": [
    "decoder_input_train[30986]"
   ]
  },
  {
   "cell_type": "code",
   "execution_count": 106,
   "id": "legislative-turner",
   "metadata": {},
   "outputs": [],
   "source": [
    "src_index_to_word = src_tokenizer.index_word # 원문 단어 집합에서 정수 -> 단어를 얻음\n",
    "tar_word_to_index = tar_tokenizer.word_index # 요약 단어 집합에서 단어 -> 정수를 얻음\n",
    "tar_index_to_word = tar_tokenizer.index_word # 요약 단어 집합에서 정수 -> 단어를 얻음"
   ]
  },
  {
   "cell_type": "code",
   "execution_count": 123,
   "id": "latin-hampton",
   "metadata": {},
   "outputs": [
    {
     "name": "stdout",
     "output_type": "stream",
     "text": [
      "sostoken\n",
      "after\n",
      "unveils\n"
     ]
    }
   ],
   "source": [
    "for i in decoder_input_train[30986]:\n",
    "    print(tar_index_to_word[i])"
   ]
  },
  {
   "cell_type": "markdown",
   "id": "eleven-exhibit",
   "metadata": {},
   "source": [
    "headline에 단어수가 적은데 접속사 after와 같은 불용어가 나오게 되는경우 문장의 요약이 적절하지 않은것같다\n",
    "\n",
    "우선, headline의 단어길이가3이하인 경우도 제외한다"
   ]
  },
  {
   "cell_type": "code",
   "execution_count": 127,
   "id": "recent-shopper",
   "metadata": {},
   "outputs": [],
   "source": [
    "drop_train = [index for index, sentence in enumerate(decoder_input_train) if len(sentence) <= 3]\n",
    "drop_test = [index for index, sentence in enumerate(decoder_input_test) if len(sentence) <= 3]"
   ]
  },
  {
   "cell_type": "code",
   "execution_count": 128,
   "id": "downtown-georgia",
   "metadata": {
    "scrolled": true
   },
   "outputs": [
    {
     "name": "stdout",
     "output_type": "stream",
     "text": [
      "삭제할 훈련 데이터의 개수 : 6\n",
      "삭제할 테스트 데이터의 개수 : 3\n",
      "훈련 데이터의 개수 : 59276\n",
      "훈련 레이블의 개수 : 59276\n",
      "테스트 데이터의 개수 : 14817\n",
      "테스트 레이블의 개수 : 14817\n"
     ]
    },
    {
     "name": "stderr",
     "output_type": "stream",
     "text": [
      "/opt/conda/lib/python3.7/site-packages/numpy/core/_asarray.py:83: VisibleDeprecationWarning: Creating an ndarray from ragged nested sequences (which is a list-or-tuple of lists-or-tuples-or ndarrays with different lengths or shapes) is deprecated. If you meant to do this, you must specify 'dtype=object' when creating the ndarray\n",
      "  return array(a, dtype, copy=False, order=order)\n"
     ]
    }
   ],
   "source": [
    "print('삭제할 훈련 데이터의 개수 :', len(drop_train))\n",
    "print('삭제할 테스트 데이터의 개수 :', len(drop_test))\n",
    "\n",
    "encoder_input_train = np.delete(encoder_input_train, drop_train, axis=0)\n",
    "decoder_input_train = np.delete(decoder_input_train, drop_train, axis=0)\n",
    "decoder_target_train = np.delete(decoder_target_train, drop_train, axis=0)\n",
    "\n",
    "encoder_input_test = np.delete(encoder_input_test, drop_test, axis=0)\n",
    "decoder_input_test = np.delete(decoder_input_test, drop_test, axis=0)\n",
    "decoder_target_test = np.delete(decoder_target_test, drop_test, axis=0)\n",
    "\n",
    "print('훈련 데이터의 개수 :', len(encoder_input_train))\n",
    "print('훈련 레이블의 개수 :', len(decoder_input_train))\n",
    "print('테스트 데이터의 개수 :', len(encoder_input_test))\n",
    "print('테스트 레이블의 개수 :', len(decoder_input_test))"
   ]
  },
  {
   "cell_type": "code",
   "execution_count": 133,
   "id": "lyric-logan",
   "metadata": {},
   "outputs": [],
   "source": [
    "encoder_input_train = pad_sequences(encoder_input_train, maxlen=text_max_len, padding='post')\n",
    "encoder_input_test = pad_sequences(encoder_input_test, maxlen=text_max_len, padding='post')\n",
    "decoder_input_train = pad_sequences(decoder_input_train, maxlen=summary_max_len, padding='post')\n",
    "decoder_target_train = pad_sequences(decoder_target_train, maxlen=summary_max_len, padding='post')\n",
    "decoder_input_test = pad_sequences(decoder_input_test, maxlen=summary_max_len, padding='post')\n",
    "decoder_target_test = pad_sequences(decoder_target_test, maxlen=summary_max_len, padding='post')"
   ]
  },
  {
   "cell_type": "markdown",
   "id": "julian-nutrition",
   "metadata": {},
   "source": [
    "## 모델설계"
   ]
  },
  {
   "cell_type": "code",
   "execution_count": 134,
   "id": "commercial-reunion",
   "metadata": {},
   "outputs": [
    {
     "name": "stdout",
     "output_type": "stream",
     "text": [
      "WARNING:tensorflow:Layer lstm will not use cuDNN kernel since it doesn't meet the cuDNN kernel criteria. It will use generic GPU kernel as fallback when running on GPU\n",
      "WARNING:tensorflow:Layer lstm_1 will not use cuDNN kernel since it doesn't meet the cuDNN kernel criteria. It will use generic GPU kernel as fallback when running on GPU\n",
      "WARNING:tensorflow:Layer lstm_2 will not use cuDNN kernel since it doesn't meet the cuDNN kernel criteria. It will use generic GPU kernel as fallback when running on GPU\n"
     ]
    }
   ],
   "source": [
    "from tensorflow.keras.layers import Input, LSTM, Embedding, Dense, Concatenate\n",
    "from tensorflow.keras.models import Model\n",
    "from tensorflow.keras.callbacks import EarlyStopping, ModelCheckpoint\n",
    "\n",
    "\n",
    "# 인코더 설계 시작\n",
    "embedding_dim = 128\n",
    "hidden_size = 256\n",
    "\n",
    "# 인코더\n",
    "encoder_inputs = Input(shape=(text_max_len,))\n",
    "\n",
    "# 인코더의 임베딩 층\n",
    "enc_emb = Embedding(src_vocab, embedding_dim)(encoder_inputs)\n",
    "\n",
    "# 인코더의 LSTM 1\n",
    "encoder_lstm1 = LSTM(hidden_size, return_sequences=True, return_state=True ,dropout = 0.4, recurrent_dropout = 0.4)\n",
    "encoder_output1, state_h1, state_c1 = encoder_lstm1(enc_emb)\n",
    "\n",
    "# 인코더의 LSTM 2\n",
    "encoder_lstm2 = LSTM(hidden_size, return_sequences=True, return_state=True, dropout=0.4, recurrent_dropout=0.4)\n",
    "encoder_output2, state_h2, state_c2 = encoder_lstm2(encoder_output1)\n",
    "\n",
    "# 인코더의 LSTM 3\n",
    "encoder_lstm3 = LSTM(hidden_size, return_state=True, return_sequences=True, dropout=0.4, recurrent_dropout=0.4)\n",
    "encoder_outputs, state_h, state_c= encoder_lstm3(encoder_output2)"
   ]
  },
  {
   "cell_type": "code",
   "execution_count": 135,
   "id": "focused-madrid",
   "metadata": {},
   "outputs": [
    {
     "name": "stdout",
     "output_type": "stream",
     "text": [
      "WARNING:tensorflow:Layer lstm_3 will not use cuDNN kernel since it doesn't meet the cuDNN kernel criteria. It will use generic GPU kernel as fallback when running on GPU\n"
     ]
    }
   ],
   "source": [
    "# 디코더 설계\n",
    "decoder_inputs = Input(shape=(None,))\n",
    "\n",
    "# 디코더의 임베딩 층\n",
    "dec_emb_layer = Embedding(tar_vocab, embedding_dim)\n",
    "dec_emb = dec_emb_layer(decoder_inputs)\n",
    "\n",
    "# 디코더의 LSTM\n",
    "decoder_lstm = LSTM(hidden_size, return_sequences=True, return_state=True, dropout=0.4, recurrent_dropout=0.2)\n",
    "decoder_outputs, _, _ = decoder_lstm(dec_emb, initial_state=[state_h, state_c])"
   ]
  },
  {
   "cell_type": "code",
   "execution_count": 136,
   "id": "premium-appreciation",
   "metadata": {
    "scrolled": true
   },
   "outputs": [
    {
     "name": "stdout",
     "output_type": "stream",
     "text": [
      "Model: \"model\"\n",
      "__________________________________________________________________________________________________\n",
      "Layer (type)                    Output Shape         Param #     Connected to                     \n",
      "==================================================================================================\n",
      "input_1 (InputLayer)            [(None, 40)]         0                                            \n",
      "__________________________________________________________________________________________________\n",
      "embedding (Embedding)           (None, 40, 128)      1920000     input_1[0][0]                    \n",
      "__________________________________________________________________________________________________\n",
      "lstm (LSTM)                     [(None, 40, 256), (N 394240      embedding[0][0]                  \n",
      "__________________________________________________________________________________________________\n",
      "input_2 (InputLayer)            [(None, None)]       0                                            \n",
      "__________________________________________________________________________________________________\n",
      "lstm_1 (LSTM)                   [(None, 40, 256), (N 525312      lstm[0][0]                       \n",
      "__________________________________________________________________________________________________\n",
      "embedding_1 (Embedding)         (None, None, 128)    1152000     input_2[0][0]                    \n",
      "__________________________________________________________________________________________________\n",
      "lstm_2 (LSTM)                   [(None, 40, 256), (N 525312      lstm_1[0][0]                     \n",
      "__________________________________________________________________________________________________\n",
      "lstm_3 (LSTM)                   [(None, None, 256),  394240      embedding_1[0][0]                \n",
      "                                                                 lstm_2[0][1]                     \n",
      "                                                                 lstm_2[0][2]                     \n",
      "__________________________________________________________________________________________________\n",
      "dense (Dense)                   (None, None, 9000)   2313000     lstm_3[0][0]                     \n",
      "==================================================================================================\n",
      "Total params: 7,224,104\n",
      "Trainable params: 7,224,104\n",
      "Non-trainable params: 0\n",
      "__________________________________________________________________________________________________\n"
     ]
    }
   ],
   "source": [
    "# 디코더의 출력층\n",
    "decoder_softmax_layer = Dense(tar_vocab, activation='softmax')\n",
    "decoder_softmax_outputs = decoder_softmax_layer(decoder_outputs) \n",
    "\n",
    "# 모델 정의\n",
    "model = Model([encoder_inputs, decoder_inputs], decoder_softmax_outputs)\n",
    "model.summary()"
   ]
  },
  {
   "cell_type": "code",
   "execution_count": 137,
   "id": "stock-there",
   "metadata": {},
   "outputs": [],
   "source": [
    "urllib.request.urlretrieve(\"https://raw.githubusercontent.com/thushv89/attention_keras/master/src/layers/attention.py\", filename=\"attention.py\")\n",
    "from attention import AttentionLayer"
   ]
  },
  {
   "cell_type": "code",
   "execution_count": 138,
   "id": "measured-surgeon",
   "metadata": {},
   "outputs": [
    {
     "name": "stdout",
     "output_type": "stream",
     "text": [
      "Model: \"model_1\"\n",
      "__________________________________________________________________________________________________\n",
      "Layer (type)                    Output Shape         Param #     Connected to                     \n",
      "==================================================================================================\n",
      "input_1 (InputLayer)            [(None, 40)]         0                                            \n",
      "__________________________________________________________________________________________________\n",
      "embedding (Embedding)           (None, 40, 128)      1920000     input_1[0][0]                    \n",
      "__________________________________________________________________________________________________\n",
      "lstm (LSTM)                     [(None, 40, 256), (N 394240      embedding[0][0]                  \n",
      "__________________________________________________________________________________________________\n",
      "input_2 (InputLayer)            [(None, None)]       0                                            \n",
      "__________________________________________________________________________________________________\n",
      "lstm_1 (LSTM)                   [(None, 40, 256), (N 525312      lstm[0][0]                       \n",
      "__________________________________________________________________________________________________\n",
      "embedding_1 (Embedding)         (None, None, 128)    1152000     input_2[0][0]                    \n",
      "__________________________________________________________________________________________________\n",
      "lstm_2 (LSTM)                   [(None, 40, 256), (N 525312      lstm_1[0][0]                     \n",
      "__________________________________________________________________________________________________\n",
      "lstm_3 (LSTM)                   [(None, None, 256),  394240      embedding_1[0][0]                \n",
      "                                                                 lstm_2[0][1]                     \n",
      "                                                                 lstm_2[0][2]                     \n",
      "__________________________________________________________________________________________________\n",
      "attention_layer (AttentionLayer ((None, None, 256),  131328      lstm_2[0][0]                     \n",
      "                                                                 lstm_3[0][0]                     \n",
      "__________________________________________________________________________________________________\n",
      "concat_layer (Concatenate)      (None, None, 512)    0           lstm_3[0][0]                     \n",
      "                                                                 attention_layer[0][0]            \n",
      "__________________________________________________________________________________________________\n",
      "dense_1 (Dense)                 (None, None, 9000)   4617000     concat_layer[0][0]               \n",
      "==================================================================================================\n",
      "Total params: 9,659,432\n",
      "Trainable params: 9,659,432\n",
      "Non-trainable params: 0\n",
      "__________________________________________________________________________________________________\n"
     ]
    }
   ],
   "source": [
    "# 어텐션 층(어텐션 함수)\n",
    "attn_layer = AttentionLayer(name='attention_layer')\n",
    "# 인코더와 디코더의 모든 time step의 hidden state를 어텐션 층에 전달하고 결과를 리턴\n",
    "attn_out, attn_states = attn_layer([encoder_outputs, decoder_outputs])\n",
    "\n",
    "# 어텐션의 결과와 디코더의 hidden state들을 연결\n",
    "decoder_concat_input = Concatenate(axis=-1, name='concat_layer')([decoder_outputs, attn_out])\n",
    "\n",
    "# 디코더의 출력층\n",
    "decoder_softmax_layer = Dense(tar_vocab, activation='softmax')\n",
    "decoder_softmax_outputs = decoder_softmax_layer(decoder_concat_input)\n",
    "\n",
    "# 모델 정의\n",
    "model = Model([encoder_inputs, decoder_inputs], decoder_softmax_outputs)\n",
    "model.summary()"
   ]
  },
  {
   "cell_type": "code",
   "execution_count": 139,
   "id": "helpful-moment",
   "metadata": {},
   "outputs": [
    {
     "name": "stdout",
     "output_type": "stream",
     "text": [
      "Epoch 1/50\n",
      "232/232 [==============================] - 175s 708ms/step - loss: 6.6699 - val_loss: 5.8517\n",
      "Epoch 2/50\n",
      "232/232 [==============================] - 165s 714ms/step - loss: 5.8241 - val_loss: 5.4838\n",
      "Epoch 3/50\n",
      "232/232 [==============================] - 165s 713ms/step - loss: 5.4585 - val_loss: 5.2429\n",
      "Epoch 4/50\n",
      "232/232 [==============================] - 165s 712ms/step - loss: 5.1546 - val_loss: 5.0128\n",
      "Epoch 5/50\n",
      "232/232 [==============================] - 165s 710ms/step - loss: 4.9093 - val_loss: 4.8501\n",
      "Epoch 6/50\n",
      "232/232 [==============================] - 166s 715ms/step - loss: 4.7092 - val_loss: 4.7467\n",
      "Epoch 7/50\n",
      "232/232 [==============================] - 166s 714ms/step - loss: 4.5095 - val_loss: 4.6163\n",
      "Epoch 8/50\n",
      "232/232 [==============================] - 165s 713ms/step - loss: 4.3468 - val_loss: 4.5319\n",
      "Epoch 9/50\n",
      "232/232 [==============================] - 166s 715ms/step - loss: 4.2080 - val_loss: 4.4489\n",
      "Epoch 10/50\n",
      "232/232 [==============================] - 165s 713ms/step - loss: 4.0798 - val_loss: 4.3909\n",
      "Epoch 11/50\n",
      "232/232 [==============================] - 164s 709ms/step - loss: 3.9611 - val_loss: 4.3386\n",
      "Epoch 12/50\n",
      "232/232 [==============================] - 166s 716ms/step - loss: 3.8548 - val_loss: 4.2970\n",
      "Epoch 13/50\n",
      "232/232 [==============================] - 165s 712ms/step - loss: 3.7613 - val_loss: 4.2652\n",
      "Epoch 14/50\n",
      "232/232 [==============================] - 165s 713ms/step - loss: 3.6717 - val_loss: 4.2375\n",
      "Epoch 15/50\n",
      "232/232 [==============================] - 164s 706ms/step - loss: 3.5868 - val_loss: 4.2121\n",
      "Epoch 16/50\n",
      "232/232 [==============================] - 162s 697ms/step - loss: 3.5088 - val_loss: 4.1854\n",
      "Epoch 17/50\n",
      "232/232 [==============================] - 161s 692ms/step - loss: 3.4445 - val_loss: 4.1726\n",
      "Epoch 18/50\n",
      "232/232 [==============================] - 162s 697ms/step - loss: 3.3706 - val_loss: 4.1690\n",
      "Epoch 19/50\n",
      "232/232 [==============================] - 161s 696ms/step - loss: 3.3053 - val_loss: 4.1422\n",
      "Epoch 20/50\n",
      "232/232 [==============================] - 161s 694ms/step - loss: 3.2504 - val_loss: 4.1399\n",
      "Epoch 21/50\n",
      "232/232 [==============================] - 161s 694ms/step - loss: 3.1994 - val_loss: 4.1233\n",
      "Epoch 22/50\n",
      "232/232 [==============================] - 160s 688ms/step - loss: 3.1351 - val_loss: 4.1146\n",
      "Epoch 23/50\n",
      "232/232 [==============================] - 162s 697ms/step - loss: 3.0885 - val_loss: 4.1166\n",
      "Epoch 24/50\n",
      "232/232 [==============================] - 162s 701ms/step - loss: 3.0376 - val_loss: 4.1173\n",
      "Epoch 00024: early stopping\n"
     ]
    }
   ],
   "source": [
    "model.compile(optimizer='rmsprop', loss='sparse_categorical_crossentropy')\n",
    "es = EarlyStopping(monitor='val_loss', patience=2, verbose=1)\n",
    "history = model.fit(x=[encoder_input_train, decoder_input_train], y=decoder_target_train, \\\n",
    "          validation_data=([encoder_input_test, decoder_input_test], decoder_target_test), \\\n",
    "          batch_size=256, callbacks=[es], epochs=50)"
   ]
  },
  {
   "cell_type": "code",
   "execution_count": 142,
   "id": "destroyed-penguin",
   "metadata": {},
   "outputs": [
    {
     "data": {
      "image/png": "[encoded data removed]",
      "text/plain": [
       "<Figure size 432x288 with 1 Axes>"
      ]
     },
     "metadata": {
      "needs_background": "light"
     },
     "output_type": "display_data"
    }
   ],
   "source": [
    "plt.plot(history.history['loss'], label='train')\n",
    "plt.plot(history.history['val_loss'], label='test')\n",
    "plt.legend()\n",
    "plt.show()"
   ]
  },
  {
   "cell_type": "code",
   "execution_count": 143,
   "id": "enhanced-dayton",
   "metadata": {},
   "outputs": [],
   "source": [
    "# 인코더 설계\n",
    "encoder_model = Model(inputs=encoder_inputs, outputs=[encoder_outputs, state_h, state_c])\n",
    "\n",
    "# 이전 시점의 상태들을 저장하는 텐서\n",
    "decoder_state_input_h = Input(shape=(hidden_size,))\n",
    "decoder_state_input_c = Input(shape=(hidden_size,))\n",
    "\n",
    "dec_emb2 = dec_emb_layer(decoder_inputs)\n",
    "\n",
    "# 문장의 다음 단어를 예측하기 위해서 초기 상태(initial_state)를 이전 시점의 상태로 사용. 이는 뒤의 함수 decode_sequence()에 구현\n",
    "# 훈련 과정에서와 달리 LSTM의 리턴하는 은닉 상태와 셀 상태인 state_h와 state_c를 버리지 않음.\n",
    "decoder_outputs2, state_h2, state_c2 = decoder_lstm(dec_emb2, initial_state=[decoder_state_input_h, decoder_state_input_c])"
   ]
  },
  {
   "cell_type": "code",
   "execution_count": 144,
   "id": "junior-holiday",
   "metadata": {},
   "outputs": [],
   "source": [
    "# 어텐션 함수\n",
    "decoder_hidden_state_input = Input(shape=(text_max_len, hidden_size))\n",
    "attn_out_inf, attn_states_inf = attn_layer([decoder_hidden_state_input, decoder_outputs2])\n",
    "decoder_inf_concat = Concatenate(axis=-1, name='concat')([decoder_outputs2, attn_out_inf])\n",
    "\n",
    "# 디코더의 출력층\n",
    "decoder_outputs2 = decoder_softmax_layer(decoder_inf_concat) \n",
    "\n",
    "# 최종 디코더 모델\n",
    "decoder_model = Model(\n",
    "    [decoder_inputs] + [decoder_hidden_state_input,decoder_state_input_h, decoder_state_input_c],\n",
    "    [decoder_outputs2] + [state_h2, state_c2])"
   ]
  },
  {
   "cell_type": "code",
   "execution_count": 145,
   "id": "grateful-month",
   "metadata": {},
   "outputs": [],
   "source": [
    "def decode_sequence(input_seq):\n",
    "    # 입력으로부터 인코더의 상태를 얻음\n",
    "    e_out, e_h, e_c = encoder_model.predict(input_seq)\n",
    "\n",
    "     # <SOS>에 해당하는 토큰 생성\n",
    "    target_seq = np.zeros((1,1))\n",
    "    target_seq[0, 0] = tar_word_to_index['sostoken']\n",
    "\n",
    "    stop_condition = False\n",
    "    decoded_sentence = ''\n",
    "    while not stop_condition: # stop_condition이 True가 될 때까지 루프 반복\n",
    "\n",
    "        output_tokens, h, c = decoder_model.predict([target_seq] + [e_out, e_h, e_c])\n",
    "        sampled_token_index = np.argmax(output_tokens[0, -1, :])\n",
    "        sampled_token = tar_index_to_word[sampled_token_index]\n",
    "\n",
    "        if (sampled_token!='eostoken'):\n",
    "            decoded_sentence += ' '+sampled_token\n",
    "\n",
    "        #  <eos>에 도달하거나 최대 길이를 넘으면 중단.\n",
    "        if (sampled_token == 'eostoken'  or len(decoded_sentence.split()) >= (summary_max_len-1)):\n",
    "            stop_condition = True\n",
    "\n",
    "        # 길이가 1인 타겟 시퀀스를 업데이트\n",
    "        target_seq = np.zeros((1,1))\n",
    "        target_seq[0, 0] = sampled_token_index\n",
    "\n",
    "        # 상태를 업데이트 합니다.\n",
    "        e_h, e_c = h, c\n",
    "\n",
    "    return decoded_sentence"
   ]
  },
  {
   "cell_type": "code",
   "execution_count": 146,
   "id": "shaped-anime",
   "metadata": {},
   "outputs": [],
   "source": [
    "# 원문의 정수 시퀀스를 텍스트 시퀀스로 변환\n",
    "def seq2text(input_seq):\n",
    "    temp=''\n",
    "    for i in input_seq:\n",
    "        if (i!=0):\n",
    "            temp = temp + src_index_to_word[i]+' '\n",
    "    return temp\n",
    "\n",
    "# 요약문의 정수 시퀀스를 텍스트 시퀀스로 변환\n",
    "def seq2summary(input_seq):\n",
    "    temp=''\n",
    "    for i in input_seq:\n",
    "        if ((i!=0 and i!=tar_word_to_index['sostoken']) and i!=tar_word_to_index['eostoken']):\n",
    "            temp = temp + tar_index_to_word[i] + ' '\n",
    "    return temp"
   ]
  },
  {
   "cell_type": "code",
   "execution_count": 147,
   "id": "stretch-person",
   "metadata": {
    "scrolled": true
   },
   "outputs": [
    {
     "name": "stdout",
     "output_type": "stream",
     "text": [
      "원문 : uttar pradesh chief minister yogi adityanath saturday said state ranks first implementation pradhan mantri yojana said happy inform rural areas successful providing houses lakh poor families urban areas scheme lakh families \n",
      "실제 요약 : up st in of pradhan cm \n",
      "예측 요약 :  up government to be renamed\n",
      "\n",
      "\n",
      "원문 : england pacer stuart broad jokingly tagged indian cricketer yuvraj singh england cricket instagram post rounder sam year old hit six sixes innings hitting four second test sri lanka wednesday notably yuvraj hit broad six sixes icc world \n",
      "실제 요약 : broad tags yuvraj singh in instagram post on sixes \n",
      "예측 요약 :  yr old rashid khan to play runs in ipl\n",
      "\n",
      "\n",
      "원문 : hyderabad task force police police arrested four people seized crore unaccounted cash wednesday police said seized money used upcoming telangana assembly elections added launched investigation sought help enforcement directorate income tax department \n",
      "실제 요약 : crore cash seized in hyd ahead of state polls held \n",
      "예측 요약 :  held in demonetised notes worth lakh in karnataka\n",
      "\n",
      "\n",
      "원문 : significant decline health dmk chief karunanidhi last hours extremely critical unstable kauvery hospital said tuesday despite maximum medical support vital organ functions continue hospital added year old admitted hospital low blood pressure last month \n",
      "실제 요약 : karunanidhi condition extremely critical hospital \n",
      "예측 요약 :  karunanidhi hospital claims of hospital\n",
      "\n",
      "\n",
      "원문 : actress kangana ranaut speaking critics said feel people saying good things film shut mouths watching film people saying good things mouths cannot shut anyone added kangana seen portraying rani laxmibai film \n",
      "실제 요약 : critics will shut their after watching manikarnika kangana \n",
      "예측 요약 :  was not just for the manikarnika kangana on manikarnika\n",
      "\n",
      "\n",
      "원문 : number farmer suicides madhya pradesh since june day six farmers killed mandsaur police firing reached per reports many eight farmers killed past hours across state district topped list places maximum number farmer suicides \n",
      "실제 요약 : madhya pradesh farmer suicide toll reaches since june \n",
      "예측 요약 :  mp farmers killed due to strike in maha\n",
      "\n",
      "\n",
      "원문 : indian officials reportedly refuted claims made china indian troops doklam information given china government incorrect misleading officials said india china engaged military standoff area since june china attempted build road near india bhutan china tri junction \n",
      "실제 요약 : india chinese claims says troops in doklam \n",
      "예측 요약 :  india to deploy troops from doklam to china\n",
      "\n",
      "\n",
      "원문 : ed sheeran sued allegedly copying song thinking loud late musician let get sued company owns part song copyright follows another lawsuit song filed august late co writer ed jr family \n",
      "실제 요약 : singer ed sheeran sued for crore for copying song \n",
      "예측 요약 :  startup sues jennifer for her over porn\n",
      "\n",
      "\n",
      "원문 : delhi chief minister arvind kejriwal monday said time throw regime prime minister narendra modi urged people forget pm modi political opponents faced last five years adding last weeks office modi government cbi akhilesh yadav \n",
      "실제 요약 : time to throw out modi regime kejriwal \n",
      "예측 요약 :  pm modi is like pm kejriwal\n",
      "\n",
      "\n",
      "원문 : class student delivered baby tribal residential school hostel bathroom odisha district sunday eight months raped police said authorities dismissed six hostel employees failure report matter police said girl allegedly raped year old village gone home vacations \n",
      "실제 요약 : class girl raped months ago gives birth in hostel bathroom \n",
      "예측 요약 :  class girl suspended for molesting class girl in gujarat\n",
      "\n",
      "\n",
      "원문 : congress leader mallikarjun kharge tuesday claimed ideology rss poison country said fighting ideology added bjp adopting rss ideology prime minister modi implementing also claimed congress individual including pm modi \n",
      "실제 요약 : rss ideology is poison for india congress leader kharge \n",
      "예측 요약 :  bjp is like rss leader on shiv sena\n",
      "\n",
      "\n",
      "원문 : body year old girl found mumbai imperial towers said tallest completed building india saturday police said yet known whether girl jumped death fell accidentally added found mobile phone suicide note \n",
      "실제 요약 : yr old falls to death from india tallest building \n",
      "예측 요약 :  year old girl dies after years in delhi\n",
      "\n",
      "\n",
      "원문 : asian games gold medalist wrestler vinesh phogat slammed rumours affair javelin neeraj chopra saying simple gesture painted wrong light rumours affair started neeraj posted selfie cheering vinesh match neeraj also tweeted saying important athletes encourage others \n",
      "실제 요약 : gesture painted in wrong light neeraj slam affair rumours \n",
      "예측 요약 :  medallist malik slammed for forcing deepika engagement\n",
      "\n",
      "\n",
      "원문 : finance minister arun jaitley said goal increasing annual trade us india billion distant dream said india offers opportunities american companies particularly defence aviation sectors notably us goods services trade india totalled estimated billion india running trade surplus \n",
      "실제 요약 : taking india us trade to bn not dream jaitley \n",
      "예측 요약 :  jaitley to become world biggest economy jaitley\n",
      "\n",
      "\n",
      "원문 : resident doctors india institute medical sciences hold peaceful protest front union health minister jp nadda residence improper implementation th central pay commission recommendations running away responsibilities run towards help aiims resident doctors association president dr singh said \n",
      "실제 요약 : aiims doctors to protest at health minister residence \n",
      "예측 요약 :  delhi doctors go on delhi doctors leave for months\n",
      "\n",
      "\n",
      "원문 : year old girl allegedly committed suicide inside delhi vihar police post mother claimed found hanging room three brothers locked another room police post victim mother alleged neighbour abducted adding wanted son marry daughter refused since minor \n",
      "실제 요약 : yr old girl commits suicide inside delhi police post \n",
      "예측 요약 :  girl commits suicide after being forced to commit suicide\n",
      "\n",
      "\n",
      "원문 : maker condoms products denied allegations tax levelled charity group oxfam oxfam said avoided taxes million france million australia among others however said tax policy totally legal norm majority global businesses \n",
      "실제 요약 : maker denies claims of millions in taxes \n",
      "예측 요약 :  credit group files complaint against flipkart over crore\n",
      "\n",
      "\n",
      "원문 : year old muslim girl named sought help police parents forcing get married even though wanted pursue studies police team managed convince family call wedding however refused stay family sent women hostel \n",
      "실제 요약 : year old muslim girl refuses to marry seeks police help \n",
      "예측 요약 :  year old girl marriage marriage marriage is not\n",
      "\n",
      "\n",
      "원문 : technology major apple tuesday hiked dividend payout billion annually regain title world biggest dividend apple surpassed oil gas corporation recently hiked payout billion company also boosted share buyback program billion billion announced year ago \n",
      "실제 요약 : apple becomes biggest in the world \n",
      "예측 요약 :  apple posts billion loss in its quarter\n",
      "\n",
      "\n",
      "원문 : fast food restaurant england leaving free boxes food homeless every night part project called project body bar also asked customers donate warm clothes homeless wrote facebook page spread love always \n",
      "실제 요약 : uk restaurant leaves food for the homeless every night \n",
      "예측 요약 :  eatery to get free discount for free\n",
      "\n",
      "\n",
      "원문 : english footballer wright playing new york red bulls dc united scored th goal celebrated removing number jersey reveal number jersey beneath year old footballer fastest hit goal mark football reaching matches \n",
      "실제 요약 : player no jersey for no jersey post th goal \n",
      "예측 요약 :  footballer wins th goal in barcelona\n",
      "\n",
      "\n",
      "원문 : dimple star opposite karan johar brahm stra per reports dimple last seen welcome back reportedly seen screen four years joined ranbir kapoor alia bhatt bulgaria film shooting monday posted pictures co stars twitter \n",
      "실제 요약 : dimple to star opposite in brahm stra reports \n",
      "예측 요약 :  aishwarya to star in ishaan ishaan karan reports\n",
      "\n",
      "\n",
      "원문 : turkish nba player whose turkish passport revoked tweeted cannot catch waste breath come anyway ugly faces responding arrest warrant accused supporting us based islamic preacher supporting failed coup attempt president erdo \n",
      "실제 요약 : nba player tweets you cannot catch me after arrest warrant \n",
      "예측 요약 :  nba player calls for not racist\n",
      "\n",
      "\n",
      "원문 : sari clad man thrashed suspicion child madhya pradesh district police said works artist rescued time local police video assault emerged social media following police said would identify accused \n",
      "실제 요약 : sari clad man thrashed on suspicion of being child lifter \n"
     ]
    },
    {
     "name": "stdout",
     "output_type": "stream",
     "text": [
      "예측 요약 :  man beaten up for man who thrashed for\n",
      "\n",
      "\n",
      "원문 : vijay mallya united breweries holdings told karnataka high court current valuation assets worth crore clear dues company corporate loans raised defunct kingfisher airlines said amount would also cover defaulted loan crore airline \n",
      "실제 요약 : have assets worth cr can clear dues mallya firm \n",
      "예측 요약 :  mallya files bankruptcy case against rcom\n",
      "\n",
      "\n",
      "원문 : minister state prime minister office jitendra singh monday slammed pakistan ceasefire violations ramadan adding country calls pakistan indulging activity said indulging firing across border proved least faith ramadan islam holy quran \n",
      "실제 요약 : india slams pakistan over ceasefire violation during ramadan \n",
      "예측 요약 :  pakistan rejects ceasefire with pak for surgical strikes\n",
      "\n",
      "\n",
      "원문 : widow indian engineer srinivas shot dead us last year invited attend president donald trump first state union address tuesday killed hate crime american navy veteran get country firing nn \n",
      "실제 요약 : widow of indian killed in us invited to trump speech \n",
      "예측 요약 :  indian origin woman shot dead in us\n",
      "\n",
      "\n",
      "원문 : video showing three men molesting woman uttar pradesh unnao gone viral men allegedly taken woman home secluded forest order assuring action accused police launched hunt arrested two men search third accused \n",
      "실제 요약 : video of three men molesting woman in unnao goes viral \n",
      "예측 요약 :  woman gangraped by men in up\n",
      "\n",
      "\n",
      "원문 : german customs officials tuesday burnt kg confiscated marijuana heat power station due lack facilities dispose large quantity weed us rubbish needs destroyed officials said weed burnt high temperature avoid ill effects residents \n",
      "실제 요약 : german power plant burns kg of marijuana to heat homes \n",
      "예측 요약 :  lakh people in germany seized\n",
      "\n",
      "\n",
      "원문 : per reports multi film indian kamal haasan last film starts political career kamal director shankar reunite two decades sequel highly successful film indian recently kamal said would launch political party \n",
      "실제 요약 : indian kamal last film before joining politics report \n",
      "예측 요약 :  rajinikanth denies reports of kamal haasan report\n",
      "\n",
      "\n",
      "원문 : bjp president amit shah blamed opposition deaths reported violence bharat bandh called earlier week protest supreme court ruling sc st act announced file review petition congress opposition parties call bharat bandh questioned \n",
      "실제 요약 : opp responsible for deaths in sc st protest amit shah \n",
      "예측 요약 :  amit shah calls for bandh over bandh in darjeeling\n",
      "\n",
      "\n",
      "원문 : two muslim men jharkhand arrested sent jail sharing sensitive messages whatsapp group duo charged promoting enmity different groups acting outrage religious feelings police said first crackdown circulating provocative content social media state \n",
      "실제 요약 : muslims jailed for sharing texts on whatsapp \n",
      "예측 요약 :  arrested for posting of social media on fb page\n",
      "\n",
      "\n",
      "원문 : saudi prince bin saud facing prison sentence uk ignoring court case mobile operator loan dispute found contempt court attend hearing prince ordered pay million lost arbitration hearing london \n",
      "실제 요약 : saudi prince faces jail in uk amid loan dispute \n",
      "예측 요약 :  saudi arabia jailed for forcing sex\n",
      "\n",
      "\n",
      "원문 : nisha served assistant state secretary south central asia ex us president barack obama government appointed us india business council president awarded bharatiya award driven leader strong record advancing us business across asia said \n",
      "실제 요약 : ex obama govt diplomat appointed us india trade body head \n",
      "예측 요약 :  trump to become new new york president\n",
      "\n",
      "\n",
      "원문 : australian wicketkeeper batsman cameron bancroft got two runs three balls return nine month ban ball tampering team perth lost hurricanes sunday year old keeping hurricanes chase took diving catch another regulation catch bancroft reportedly section crowd \n",
      "실제 요약 : scores in match on return after month ban \n",
      "예측 요약 :  aussie captain bowler gets off ball tampering with\n",
      "\n",
      "\n",
      "원문 : defence ministry friday called news report incorrect said government decision buy rafale fighter jets increased price aircraft said issues raised article compared un escalated price price answered defence minister nirmala sitharaman parliament \n",
      "실제 요약 : incorrect govt on report claiming rise in rafale cost \n",
      "예측 요약 :  rafale deal will not be worth india govt\n",
      "\n",
      "\n",
      "원문 : us police said las vegas shooter stephen paddock known ties islamic terrorism despite islamic state claiming responsibility attack police said investigators confident shooter paddock room investigators interested paddock medical status police added \n",
      "실제 요약 : las vegas shooter had no islamic terror connection police \n",
      "예측 요약 :  isis claims responsibility for isis\n",
      "\n",
      "\n",
      "원문 : team india registered two victories tests played lord last years tests india lost four matches ended draw india first test victory lord came second ishant sharma took seven wickets innings \n",
      "실제 요약 : india have played tests at lord in years won only \n",
      "예측 요약 :  india beat sl to win over of\n",
      "\n",
      "\n",
      "원문 : government kazakhstan appointed chairman jewellers suraj honorary consul southern states tamil nadu karnataka kerala kazakhstan ambassador india said confident honorary consul office would promote development mutually beneficial cooperation two countries \n",
      "실제 요약 : indian businessman appointed kazakhstan honorary \n",
      "예측 요약 :  govt to observe kerala farmers in kerala\n",
      "\n",
      "\n",
      "원문 : visit israel us president donald trump monday said iran must never allowed possess nuclear weapons accusing iran middle east extremists trump added iran must immediately stop financial military support terrorists militias notably us brands iran state sponsor terrorism \n",
      "실제 요약 : iran must never be allowed to have nuclear weapons trump \n",
      "예측 요약 :  trump calls iran nuclear deal with nuclear deal\n",
      "\n",
      "\n",
      "원문 : bought kings xi punjab crore indian rounder yuvraj singh called preity zinta team owner said happy back team guess year self belief pride see part tweet read yuvraj earlier represented kxip \n",
      "실제 요약 : see yuvraj on being bought by kings xi punjab \n",
      "예측 요약 :  yuvraj singh yuvraj singh jersey jersey\n",
      "\n",
      "\n",
      "원문 : china already met carbon dioxide emissions reduction target chinese media reported citing country climate change representative china cut co emissions per unit gdp level fulfilling commitment said according paris climate deal china cut emissions \n",
      "실제 요약 : china meets carbon reduction target three years early \n",
      "예측 요약 :  china china to produce global energy technology\n",
      "\n",
      "\n",
      "원문 : kenya rio olympics women marathon last year tested positive banned substance competition dope test conducted international association athletics due compete upcoming london marathon last year suspended competition pending test \n",
      "실제 요약 : rio olympics marathon champion fails dope test \n",
      "예측 요약 :  olympic winner banned for doping in doping\n",
      "\n",
      "\n",
      "원문 : nasa mars curiosity rover wednesday tweeted taking care business back full operations rover drove metres site called lake pushing total estimated change position time kilometres per nasa curiosity longest drive since experiencing memory anomaly september year \n",
      "실제 요약 : am back to full operations nasa rover on mars \n",
      "예측 요약 :  nasa shares video of mars mars\n",
      "\n",
      "\n",
      "원문 : three men arrested allegedly shooting dead year old man allow one smoke inside house delhi father cigarette smoke accused reportedly killed man take revenge slapped one stop smoking \n",
      "실제 요약 : delhi man shot dead for to smoking \n",
      "예측 요약 :  man kills self for shooting in mumbai\n",
      "\n",
      "\n",
      "원문 : ips officer surendra kumar das allegedly consumed poison wednesday passed away admitted hospital passed away due poisoning tried best revive could save stated hospital officials revealed searching ways end life google recently \n",
      "실제 요약 : yr old ips officer passes away days after consuming poison \n",
      "예측 요약 :  ias officer dies after being died in hospital\n",
      "\n",
      "\n",
      "원문 : five policemen killed militants police party kashmir anantnag district martyrs included police officer rank sho meanwhile two people reportedly died police opened fire protesters attempting disrupt encounter going area \n",
      "실제 요약 : policemen killed as militants convoy in kashmir \n",
      "예측 요약 :  killed in encounter in jammu and kashmir\n",
      "\n",
      "\n",
      "원문 : passenger charged interfering cabin crew new york bound jetblue flight forced make emergency landing due drunken behaviour fbi accused robin touching man head manner attacking flight attendant put plastic managed break \n",
      "실제 요약 : woman flyer charged for touching man head \n"
     ]
    },
    {
     "name": "stdout",
     "output_type": "stream",
     "text": [
      "예측 요약 :  passenger flight gets emergency landing on flight\n",
      "\n",
      "\n",
      "원문 : air india spokesperson said delay salary transaction employees adding nothing abnormal said payments made friday reportedly officials union members said air india failed pay salaries july employees within usual time frame due cash deficit \n",
      "실제 요약 : air india denies delay in salaries says nothing abnormal \n",
      "예측 요약 :  air india privatisation not privatisation on sale of staff\n",
      "\n",
      "\n",
      "원문 : bihar cm nitish kumar sunday blamed banks implementing demonetisation properly claiming people could receive benefits extent people deposited huge amounts scrapped currency money laundered said kumar supported demonetisation part grand alliance rjd congress \n",
      "실제 요약 : banks did not implement demonetisation properly bihar cm \n",
      "예측 요약 :  demonetisation is not cash kejriwal\n",
      "\n",
      "\n"
     ]
    }
   ],
   "source": [
    "for i in range(50, 100):\n",
    "    print(\"원문 :\", seq2text(encoder_input_test[i]))\n",
    "    print(\"실제 요약 :\", seq2summary(decoder_input_test[i]))\n",
    "    print(\"예측 요약 :\", decode_sequence(encoder_input_test[i].reshape(1, text_max_len)))\n",
    "    print(\"\\n\")"
   ]
  },
  {
   "cell_type": "markdown",
   "id": "authentic-teddy",
   "metadata": {},
   "source": [
    "단어장을 너무 크게 만들어서 도중에 잘 모르는 단어도 나오는 것 같다. 그리고 단어가 반복되는 경우가 좀 있어 학습이 잘 안된 것으로 보인다"
   ]
  },
  {
   "cell_type": "markdown",
   "id": "piano-liquid",
   "metadata": {},
   "source": [
    "## 회고"
   ]
  },
  {
   "cell_type": "markdown",
   "id": "light-custody",
   "metadata": {},
   "source": [
    "이번에 뉴스 요약하는 프로젝트에서 전처리 과정에 대한 학습을 할 수 있었으며 단어 임베딩의 중요성 또한 알 수 있었다.\n",
    "\n",
    "처음에 어텐션 모델의 구현한 것을 이해하는데 애를 먹었었다. 비록 프로젝트는 마무리짓지못했지만 어텐션 모델을 이해하는데 시간을 투자함으로써 어텐션 모델의 작동하는 방식에 대해 그래도 잘 이해할 수 있었던 것같다. "
   ]
  }
 ],
 "metadata": {
  "kernelspec": {
   "display_name": "Python 3",
   "language": "python",
   "name": "python3"
  },
  "language_info": {
   "codemirror_mode": {
    "name": "ipython",
    "version": 3
   },
   "file_extension": ".py",
   "mimetype": "text/x-python",
   "name": "python",
   "nbconvert_exporter": "python",
   "pygments_lexer": "ipython3",
   "version": "3.7.9"
  }
 },
 "nbformat": 4,
 "nbformat_minor": 5
}
