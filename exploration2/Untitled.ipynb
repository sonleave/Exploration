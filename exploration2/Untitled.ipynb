{
 "cells": [
  {
   "cell_type": "code",
   "execution_count": 9,
   "id": "independent-easter",
   "metadata": {},
   "outputs": [
    {
     "name": "stdout",
     "output_type": "stream",
     "text": [
      "/aiffel/aiffel/rock_scissor_paper\n"
     ]
    }
   ],
   "source": [
    "cd rock_scissor_paper"
   ]
  },
  {
   "cell_type": "code",
   "execution_count": 10,
   "id": "other-final",
   "metadata": {},
   "outputs": [
    {
     "name": "stdout",
     "output_type": "stream",
     "text": [
      "PIL 라이브러리 import 완료!\n"
     ]
    }
   ],
   "source": [
    "from PIL import Image\n",
    "import os, glob\n",
    "\n",
    "print(\"PIL 라이브러리 import 완료!\")"
   ]
  },
  {
   "cell_type": "code",
   "execution_count": 12,
   "id": "theoretical-crowd",
   "metadata": {},
   "outputs": [],
   "source": [
    "rsp_dict = {'rock' : 0, 'scissor' : 0, 'paper' : 0}"
   ]
  },
  {
   "cell_type": "code",
   "execution_count": 14,
   "id": "fallen-involvement",
   "metadata": {},
   "outputs": [],
   "source": [
    "import os\n",
    "\n",
    "def resize_images(img_path):\n",
    "    \n",
    "    images = glob.glob(img_path + \"/*.jpg\")\n",
    "    \n",
    "    print(len(images), \" images to be resized.\")\n",
    "    \n",
    "    if 'rock' in img_path.split('/'):\n",
    "        rsp_dict['rock'] = len(images)\n",
    "    elif 'scissor' in img_path.split('/'):\n",
    "        rsp_dict['scissor'] = len(images)\n",
    "    else:\n",
    "        rsp_dict['paper'] = len(images)\n",
    "    # 파일마다 모두 28x28 사이즈로 바꾸어 저장\n",
    "    target_size = (28, 28)\n",
    "    for img in images:\n",
    "        old_img = Image.open(img)\n",
    "        new_img = old_img.resize(target_size, Image.ANTIALIAS)\n",
    "        new_img.save(img, \"JPEG\")\n",
    "    \n",
    "    print(len(images), \" images resized.\")"
   ]
  },
  {
   "cell_type": "code",
   "execution_count": 17,
   "id": "molecular-treat",
   "metadata": {},
   "outputs": [],
   "source": [
    "file_path = [\"/aiffel/aiffel/rock_scissor_paper/rock\", \"/aiffel/aiffel/rock_scissor_paper/paper\", \"/aiffel/aiffel/rock_scissor_paper/scissor\"]"
   ]
  },
  {
   "cell_type": "code",
   "execution_count": 18,
   "id": "polished-department",
   "metadata": {},
   "outputs": [
    {
     "name": "stdout",
     "output_type": "stream",
     "text": [
      "100  images to be resized.\n",
      "100  images resized.\n",
      "100  images to be resized.\n",
      "100  images resized.\n",
      "100  images to be resized.\n",
      "100  images resized.\n"
     ]
    }
   ],
   "source": [
    "for f in file_path:\n",
    "    resize_images(f)"
   ]
  },
  {
   "cell_type": "code",
   "execution_count": 19,
   "id": "announced-sentence",
   "metadata": {},
   "outputs": [
    {
     "data": {
      "text/plain": [
       "{'rock': 100, 'scissor': 100, 'paper': 100}"
      ]
     },
     "execution_count": 19,
     "metadata": {},
     "output_type": "execute_result"
    }
   ],
   "source": [
    "rsp_dict"
   ]
  },
  {
   "cell_type": "code",
   "execution_count": 27,
   "id": "competitive-pakistan",
   "metadata": {},
   "outputs": [],
   "source": [
    "import random"
   ]
  },
  {
   "cell_type": "code",
   "execution_count": 32,
   "id": "conscious-judge",
   "metadata": {},
   "outputs": [],
   "source": [
    "rock_idx_lst = {i for i in range(rsp_dict['rock'])}\n",
    "scissor_idx_lst = {i for i in range(rsp_dict['scissor'])}\n",
    "paper_idx_lst = {i for i in range(rsp_dict['paper'])}\n",
    "\n",
    "random.seed(41)\n",
    "train_rock_idx = set(random.sample(rock_idx_lst, int(len(rock_idx_lst) * 0.8)))\n",
    "train_scissor_idx = set(random.sample(scissor_idx_lst, int(len(scissor_idx_lst) * 0.8)))\n",
    "train_paper_idx = set(random.sample(paper_idx_lst, int(len(paper_idx_lst) * 0.8)))\n",
    "\n",
    "test_rock_idx = rock_idx_lst - train_rock_idx\n",
    "test_scissor_idx = scissor_idx_lst - train_scissor_idx\n",
    "test_paper_idx = paper_idx_lst - train_paper_idx\n"
   ]
  },
  {
   "cell_type": "code",
   "execution_count": 35,
   "id": "heated-corner",
   "metadata": {},
   "outputs": [
    {
     "name": "stdout",
     "output_type": "stream",
     "text": [
      "10\n",
      "14\n",
      "23\n",
      "35\n",
      "36\n",
      "38\n",
      "50\n",
      "52\n",
      "56\n",
      "58\n",
      "60\n",
      "63\n",
      "72\n",
      "73\n",
      "77\n",
      "78\n",
      "80\n",
      "86\n",
      "91\n",
      "98\n"
     ]
    }
   ],
   "source": [
    "for idx, file in enumerate(glob.iglob(file_path[0]+'/*.jpg')):\n",
    "    if idx in test_rock_idx:\n",
    "        print(idx)"
   ]
  },
  {
   "cell_type": "code",
   "execution_count": null,
   "id": "prescription-albany",
   "metadata": {},
   "outputs": [],
   "source": [
    "import numpy as np\n",
    "\n",
    "def load_data(img_path, number_of_data=300):  # 가위바위보 이미지 개수 총합에 주의하세요.\n",
    "    # 가위 : 0, 바위 : 1, 보 : 2\n",
    "    img_size=28\n",
    "    color=3\n",
    "    #이미지 데이터와 라벨(가위 : 0, 바위 : 1, 보 : 2) 데이터를 담을 행렬(matrix) 영역을 생성합니다.\n",
    "    imgs=np.zeros(number_of_data*img_size*img_size*color,dtype=np.int32).reshape(number_of_data,img_size,img_size,color)\n",
    "    labels=np.zeros(number_of_data,dtype=np.int32)\n",
    "\n",
    "    idx=0\n",
    "    for file in glob.iglob(img_path+'/scissor/*.jpg'):\n",
    "        img = np.array(Image.open(file),dtype=np.int32)\n",
    "        imgs[idx,:,:,:]=img    # 데이터 영역에 이미지 행렬을 복사\n",
    "        labels[idx]=0   # 가위 : 0\n",
    "        idx=idx+1\n",
    "\n",
    "    for file in glob.iglob(img_path+'/rock/*.jpg'):\n",
    "        img = np.array(Image.open(file),dtype=np.int32)\n",
    "        imgs[idx,:,:,:]=img    # 데이터 영역에 이미지 행렬을 복사\n",
    "        labels[idx]=1   # 바위 : 1\n",
    "        idx=idx+1  \n",
    "    \n",
    "    for file in glob.iglob(img_path+'/paper/*.jpg'):\n",
    "        img = np.array(Image.open(file),dtype=np.int32)\n",
    "        imgs[idx,:,:,:]=img    # 데이터 영역에 이미지 행렬을 복사\n",
    "        labels[idx]=2   # 보 : 2\n",
    "        idx=idx+1\n",
    "        \n",
    "    print(\"학습데이터(x_train)의 이미지 개수는\", idx,\"입니다.\")\n",
    "    return imgs, labels\n",
    "\n",
    "\n",
    "(x_train, y_train)=load_data(image_dir_path)\n",
    "x_train_norm = x_train/255.0   # 입력은 0~1 사이의 값으로 정규화\n",
    "\n",
    "print(\"x_train shape: {}\".format(x_train.shape))\n",
    "print(\"y_train shape: {}\".format(y_train.shape))"
   ]
  }
 ],
 "metadata": {
  "kernelspec": {
   "display_name": "Python 3",
   "language": "python",
   "name": "python3"
  },
  "language_info": {
   "codemirror_mode": {
    "name": "ipython",
    "version": 3
   },
   "file_extension": ".py",
   "mimetype": "text/x-python",
   "name": "python",
   "nbconvert_exporter": "python",
   "pygments_lexer": "ipython3",
   "version": "3.7.9"
  }
 },
 "nbformat": 4,
 "nbformat_minor": 5
}
